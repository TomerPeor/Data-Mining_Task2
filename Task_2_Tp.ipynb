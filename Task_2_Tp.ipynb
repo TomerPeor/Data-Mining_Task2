{
 "cells": [
  {
   "cell_type": "code",
   "execution_count": 189,
   "id": "03ab0a4f-b80d-4783-bbd4-ddd1a72ab097",
   "metadata": {},
   "outputs": [],
   "source": [
    "import pandas as pd\n",
    "import numpy as np"
   ]
  },
  {
   "cell_type": "code",
   "execution_count": 190,
   "id": "6fee4ef5-f04e-4b0e-8f69-3e131e1c35aa",
   "metadata": {},
   "outputs": [
    {
     "data": {
      "text/html": [
       "<div>\n",
       "<style scoped>\n",
       "    .dataframe tbody tr th:only-of-type {\n",
       "        vertical-align: middle;\n",
       "    }\n",
       "\n",
       "    .dataframe tbody tr th {\n",
       "        vertical-align: top;\n",
       "    }\n",
       "\n",
       "    .dataframe thead th {\n",
       "        text-align: right;\n",
       "    }\n",
       "</style>\n",
       "<table border=\"1\" class=\"dataframe\">\n",
       "  <thead>\n",
       "    <tr style=\"text-align: right;\">\n",
       "      <th></th>\n",
       "      <th>event_time</th>\n",
       "      <th>event_type</th>\n",
       "      <th>product_id</th>\n",
       "      <th>category_id</th>\n",
       "      <th>category_code</th>\n",
       "      <th>brand</th>\n",
       "      <th>price</th>\n",
       "      <th>user_id</th>\n",
       "      <th>user_session</th>\n",
       "    </tr>\n",
       "  </thead>\n",
       "  <tbody>\n",
       "    <tr>\n",
       "      <th>0</th>\n",
       "      <td>2019-11-01 00:00:02</td>\n",
       "      <td>view</td>\n",
       "      <td>5802432</td>\n",
       "      <td>1487580009286590000</td>\n",
       "      <td>NaN</td>\n",
       "      <td>NaN</td>\n",
       "      <td>0.32</td>\n",
       "      <td>562076640</td>\n",
       "      <td>09fafd6c-6c99-46b1-834f-33527f4de241</td>\n",
       "    </tr>\n",
       "    <tr>\n",
       "      <th>1</th>\n",
       "      <td>2019-11-01 00:00:09</td>\n",
       "      <td>cart</td>\n",
       "      <td>5844397</td>\n",
       "      <td>1487580006317030000</td>\n",
       "      <td>NaN</td>\n",
       "      <td>NaN</td>\n",
       "      <td>2.38 sale</td>\n",
       "      <td>553329724</td>\n",
       "      <td>2067216c-31b5-455d-a1cc-af0575a34ffb</td>\n",
       "    </tr>\n",
       "    <tr>\n",
       "      <th>2</th>\n",
       "      <td>2019-11-01 00:00:10</td>\n",
       "      <td>view</td>\n",
       "      <td>5837166</td>\n",
       "      <td>1783999064103190000</td>\n",
       "      <td>NaN</td>\n",
       "      <td>pnb</td>\n",
       "      <td>22.22</td>\n",
       "      <td>556138645</td>\n",
       "      <td>57ed222e-a54a-4907-9944-5a875c2d7f4f</td>\n",
       "    </tr>\n",
       "    <tr>\n",
       "      <th>3</th>\n",
       "      <td>2019-11-01 00:00:11</td>\n",
       "      <td>cart</td>\n",
       "      <td>5876812</td>\n",
       "      <td>1487580010100290000</td>\n",
       "      <td>NaN</td>\n",
       "      <td>jessnail</td>\n",
       "      <td>3.16</td>\n",
       "      <td>564506666</td>\n",
       "      <td>186c1951-8052-4b37-adce-dd9644b1d5f7</td>\n",
       "    </tr>\n",
       "    <tr>\n",
       "      <th>4</th>\n",
       "      <td>2019-11-01 00:00:24</td>\n",
       "      <td>remove_from_cart</td>\n",
       "      <td>5826182</td>\n",
       "      <td>1487580007483040000</td>\n",
       "      <td>NaN</td>\n",
       "      <td>NaN</td>\n",
       "      <td>3.33</td>\n",
       "      <td>553329724</td>\n",
       "      <td>2067216c-31b5-455d-a1cc-af0575a34ffb</td>\n",
       "    </tr>\n",
       "  </tbody>\n",
       "</table>\n",
       "</div>"
      ],
      "text/plain": [
       "            event_time        event_type  product_id          category_id  \\\n",
       "0  2019-11-01 00:00:02              view     5802432  1487580009286590000   \n",
       "1  2019-11-01 00:00:09              cart     5844397  1487580006317030000   \n",
       "2  2019-11-01 00:00:10              view     5837166  1783999064103190000   \n",
       "3  2019-11-01 00:00:11              cart     5876812  1487580010100290000   \n",
       "4  2019-11-01 00:00:24  remove_from_cart     5826182  1487580007483040000   \n",
       "\n",
       "  category_code     brand      price    user_id  \\\n",
       "0           NaN       NaN       0.32  562076640   \n",
       "1           NaN       NaN  2.38 sale  553329724   \n",
       "2           NaN       pnb      22.22  556138645   \n",
       "3           NaN  jessnail       3.16  564506666   \n",
       "4           NaN       NaN       3.33  553329724   \n",
       "\n",
       "                           user_session  \n",
       "0  09fafd6c-6c99-46b1-834f-33527f4de241  \n",
       "1  2067216c-31b5-455d-a1cc-af0575a34ffb  \n",
       "2  57ed222e-a54a-4907-9944-5a875c2d7f4f  \n",
       "3  186c1951-8052-4b37-adce-dd9644b1d5f7  \n",
       "4  2067216c-31b5-455d-a1cc-af0575a34ffb  "
      ]
     },
     "execution_count": 190,
     "metadata": {},
     "output_type": "execute_result"
    }
   ],
   "source": [
    "path = \"C:\\\\Users\\\\97250\\\\Desktop\\\\תואר הנדסה\\\\שנה ג' סמסטר ב\\\\data mining\\\\Tasks\\\\2\\\\matala2_cosmetics_2019-Nov.csv\"\n",
    "data = pd.read_csv(path,low_memory=False)\n",
    "data.head()"
   ]
  },
  {
   "cell_type": "markdown",
   "id": "9f9fc444-a49a-4e12-b136-a1e31611fd4f",
   "metadata": {},
   "source": [
    "## 1. duration_to_next_event "
   ]
  },
  {
   "cell_type": "markdown",
   "id": "86b06e12-6524-4866-b603-4ca98da4b939",
   "metadata": {},
   "source": [
    "to manipulate our event_time we need that the dtype of that column will be **datetime**, lets check the dtype"
   ]
  },
  {
   "cell_type": "code",
   "execution_count": 191,
   "id": "f88e2434-114d-4db9-9337-e5ce6b32bf5f",
   "metadata": {},
   "outputs": [
    {
     "data": {
      "text/plain": [
       "event_time       object\n",
       "event_type       object\n",
       "product_id        int64\n",
       "category_id       int64\n",
       "category_code    object\n",
       "brand            object\n",
       "price            object\n",
       "user_id           int64\n",
       "user_session     object\n",
       "dtype: object"
      ]
     },
     "execution_count": 191,
     "metadata": {},
     "output_type": "execute_result"
    }
   ],
   "source": [
    "data.dtypes"
   ]
  },
  {
   "cell_type": "markdown",
   "id": "5f6251c4-aa8d-4c5e-820d-68654a4aaebe",
   "metadata": {},
   "source": [
    "We can see that event_time standing on **object** dtype, lets convert it **&** sort the data by user_session."
   ]
  },
  {
   "cell_type": "code",
   "execution_count": 192,
   "id": "56e34aa9-3978-43ba-8dd1-258fbc63516f",
   "metadata": {},
   "outputs": [
    {
     "data": {
      "text/plain": [
       "event_time       datetime64[ns]\n",
       "event_type               object\n",
       "product_id                int64\n",
       "category_id               int64\n",
       "category_code            object\n",
       "brand                    object\n",
       "price                    object\n",
       "user_id                   int64\n",
       "user_session             object\n",
       "dtype: object"
      ]
     },
     "execution_count": 192,
     "metadata": {},
     "output_type": "execute_result"
    }
   ],
   "source": [
    "data['event_time']= pd.to_datetime(data['event_time'])\n",
    "data.dtypes"
   ]
  },
  {
   "cell_type": "code",
   "execution_count": 193,
   "id": "2f537565-9433-4a0f-a7a8-cfb425a9fb8b",
   "metadata": {},
   "outputs": [],
   "source": [
    "data = data.sort_values(by=['user_session','event_time'],ascending = True)"
   ]
  },
  {
   "cell_type": "markdown",
   "id": "66522527-1744-4538-8346-f9fbe885cf90",
   "metadata": {},
   "source": [
    "Now, lets use diff() to calculate time between events (We can see that the data already sorted so no action needed)"
   ]
  },
  {
   "cell_type": "code",
   "execution_count": 194,
   "id": "edb2722c-60b4-4cf4-8681-7c233b07d272",
   "metadata": {},
   "outputs": [
    {
     "data": {
      "text/html": [
       "<div>\n",
       "<style scoped>\n",
       "    .dataframe tbody tr th:only-of-type {\n",
       "        vertical-align: middle;\n",
       "    }\n",
       "\n",
       "    .dataframe tbody tr th {\n",
       "        vertical-align: top;\n",
       "    }\n",
       "\n",
       "    .dataframe thead th {\n",
       "        text-align: right;\n",
       "    }\n",
       "</style>\n",
       "<table border=\"1\" class=\"dataframe\">\n",
       "  <thead>\n",
       "    <tr style=\"text-align: right;\">\n",
       "      <th></th>\n",
       "      <th>event_time</th>\n",
       "      <th>event_type</th>\n",
       "      <th>product_id</th>\n",
       "      <th>category_id</th>\n",
       "      <th>category_code</th>\n",
       "      <th>brand</th>\n",
       "      <th>price</th>\n",
       "      <th>user_id</th>\n",
       "      <th>user_session</th>\n",
       "      <th>duration_to_next_event</th>\n",
       "    </tr>\n",
       "  </thead>\n",
       "  <tbody>\n",
       "    <tr>\n",
       "      <th>522763</th>\n",
       "      <td>2019-11-05 07:57:05</td>\n",
       "      <td>view</td>\n",
       "      <td>5829298</td>\n",
       "      <td>1487580011585070000</td>\n",
       "      <td>NaN</td>\n",
       "      <td>farmstay</td>\n",
       "      <td>0.79</td>\n",
       "      <td>556321594</td>\n",
       "      <td>00000dd2-0f5d-4fc9-9d6b-2fc8c7514b04</td>\n",
       "      <td>0.0</td>\n",
       "    </tr>\n",
       "    <tr>\n",
       "      <th>284392</th>\n",
       "      <td>2019-11-03 12:45:44</td>\n",
       "      <td>view</td>\n",
       "      <td>5846437</td>\n",
       "      <td>1487580013950660000</td>\n",
       "      <td>NaN</td>\n",
       "      <td>browxenna</td>\n",
       "      <td>45.24</td>\n",
       "      <td>473600495</td>\n",
       "      <td>00005ac0-5c22-4756-bb12-31b90af75fa3</td>\n",
       "      <td>11.0</td>\n",
       "    </tr>\n",
       "    <tr>\n",
       "      <th>284416</th>\n",
       "      <td>2019-11-03 12:45:55</td>\n",
       "      <td>view</td>\n",
       "      <td>5846436</td>\n",
       "      <td>1487580013950660000</td>\n",
       "      <td>NaN</td>\n",
       "      <td>browxenna</td>\n",
       "      <td>45.24</td>\n",
       "      <td>473600495</td>\n",
       "      <td>00005ac0-5c22-4756-bb12-31b90af75fa3</td>\n",
       "      <td>0.0</td>\n",
       "    </tr>\n",
       "    <tr>\n",
       "      <th>144335</th>\n",
       "      <td>2019-11-02 09:13:51</td>\n",
       "      <td>view</td>\n",
       "      <td>5887753</td>\n",
       "      <td>1487580013279570000</td>\n",
       "      <td>NaN</td>\n",
       "      <td>NaN</td>\n",
       "      <td>3.56</td>\n",
       "      <td>557616099</td>\n",
       "      <td>0000d358-49a1-4a54-b402-08205c35981c</td>\n",
       "      <td>0.0</td>\n",
       "    </tr>\n",
       "    <tr>\n",
       "      <th>853411</th>\n",
       "      <td>2019-11-07 11:18:15</td>\n",
       "      <td>view</td>\n",
       "      <td>59996</td>\n",
       "      <td>1487580012927250000</td>\n",
       "      <td>NaN</td>\n",
       "      <td>NaN</td>\n",
       "      <td>4.13</td>\n",
       "      <td>463202709</td>\n",
       "      <td>0000d72e-be5f-4a03-9f17-6ac81584f177</td>\n",
       "      <td>71.0</td>\n",
       "    </tr>\n",
       "  </tbody>\n",
       "</table>\n",
       "</div>"
      ],
      "text/plain": [
       "                event_time event_type  product_id          category_id  \\\n",
       "522763 2019-11-05 07:57:05       view     5829298  1487580011585070000   \n",
       "284392 2019-11-03 12:45:44       view     5846437  1487580013950660000   \n",
       "284416 2019-11-03 12:45:55       view     5846436  1487580013950660000   \n",
       "144335 2019-11-02 09:13:51       view     5887753  1487580013279570000   \n",
       "853411 2019-11-07 11:18:15       view       59996  1487580012927250000   \n",
       "\n",
       "       category_code      brand  price    user_id  \\\n",
       "522763           NaN   farmstay   0.79  556321594   \n",
       "284392           NaN  browxenna  45.24  473600495   \n",
       "284416           NaN  browxenna  45.24  473600495   \n",
       "144335           NaN        NaN   3.56  557616099   \n",
       "853411           NaN        NaN   4.13  463202709   \n",
       "\n",
       "                                user_session  duration_to_next_event  \n",
       "522763  00000dd2-0f5d-4fc9-9d6b-2fc8c7514b04                     0.0  \n",
       "284392  00005ac0-5c22-4756-bb12-31b90af75fa3                    11.0  \n",
       "284416  00005ac0-5c22-4756-bb12-31b90af75fa3                     0.0  \n",
       "144335  0000d358-49a1-4a54-b402-08205c35981c                     0.0  \n",
       "853411  0000d72e-be5f-4a03-9f17-6ac81584f177                    71.0  "
      ]
     },
     "execution_count": 194,
     "metadata": {},
     "output_type": "execute_result"
    }
   ],
   "source": [
    "data['duration_to_next_event'] = (data['event_time'].shift(-1)-data['event_time']).dt.seconds\n",
    "data.loc[data['user_session'].shift(-1) != data['user_session'], 'duration_to_next_event'] = None\n",
    "data['duration_to_next_event'] = data['duration_to_next_event'].fillna(0)\n",
    "data.head()"
   ]
  },
  {
   "cell_type": "markdown",
   "id": "b76ff916-4bbc-442f-b97b-913b579f7040",
   "metadata": {},
   "source": [
    "## 2. funnel_number"
   ]
  },
  {
   "cell_type": "markdown",
   "id": "41b86702-4da6-4ae3-ae74-49be7d2a6cc9",
   "metadata": {},
   "source": [
    "We can see our data sorted according to event_time column, In order to calculate the sessions we will need to make a Temporary data frame  \n",
    "that sorted by user_id, In addition we will add the sessions value to a dict and than we will map them by user_id.  \n",
    "**In addition, We will need to change event_time and drop the hours & seconds to calculate days difference for the fuunel column**"
   ]
  },
  {
   "cell_type": "code",
   "execution_count": 195,
   "id": "d6da92a5-5f16-401d-9a0e-659c25479c4f",
   "metadata": {},
   "outputs": [],
   "source": [
    "data_sorted = data.sort_values(by=['user_id','event_time'])\n",
    "data_sorted['event_date'] = data_sorted['event_time'].dt.date"
   ]
  },
  {
   "cell_type": "markdown",
   "id": "0c53bfb4-8c05-4d68-9d20-22b583971662",
   "metadata": {},
   "source": [
    "Now, lets create days_between column, we will use it to calculate the cumulative days for the sessions.  \n",
    "**important! we have to make a condition between different users to ensure we will not mistakely calulate the days between them**"
   ]
  },
  {
   "cell_type": "code",
   "execution_count": 196,
   "id": "766ab423-fd5b-4fbb-bf6f-dd38dbb13da9",
   "metadata": {},
   "outputs": [],
   "source": [
    "data_sorted['days_between'] = (data_sorted.groupby('user_id')['event_date']\n",
    "                                        .diff().apply(pd.Timedelta).dt.days\n",
    "                                        .fillna(0))\n",
    "data_sorted['days_between'].fillna(0, inplace=True)\n",
    "data_sorted.loc[data_sorted['user_id'] != data_sorted['user_id'].shift(), 'days_between'] = None"
   ]
  },
  {
   "cell_type": "markdown",
   "id": "db53a134-2612-4539-858e-08cf70993998",
   "metadata": {},
   "source": [
    "finally, we will generate formula that including inside cumsum(), cumsum function calculate the cumulative values.  \n",
    "Then adjust it to the original df"
   ]
  },
  {
   "cell_type": "code",
   "execution_count": null,
   "id": "dac2ba80-f95e-499e-ba3b-1f2600476567",
   "metadata": {},
   "outputs": [],
   "source": [
    "data_sorted['funnel_number'] = (data_sorted.groupby('user_id')['days_between']\n",
    "                                       .transform(lambda x: (x.cumsum() // 5) + 1))\n",
    "data_sorted['funnel_number'] = data_sorted['funnel_number'].fillna(1)"
   ]
  },
  {
   "cell_type": "code",
   "execution_count": null,
   "id": "3c7b1d0b-0131-4458-9e0f-f3243f93a6e7",
   "metadata": {},
   "outputs": [],
   "source": [
    "data_sorted.loc[data['user_id'] == 28048440].head(15)"
   ]
  },
  {
   "cell_type": "markdown",
   "id": "56ce2821-e007-4e6d-b61a-d021b6b7678f",
   "metadata": {},
   "source": [
    "## 3. index_in_funnel "
   ]
  },
  {
   "cell_type": "code",
   "execution_count": null,
   "id": "e32f2e81-3da5-4b37-9a37-4bd80dc17205",
   "metadata": {},
   "outputs": [],
   "source": [
    "data_sorted['index_in_funnel'] = data_sorted.groupby(['user_id', 'funnel_number']).cumcount() + 1"
   ]
  },
  {
   "cell_type": "markdown",
   "id": "79ea95a5-6540-47dd-b6a2-912d58522868",
   "metadata": {},
   "source": [
    "Lets take some userID for example to see if it works"
   ]
  },
  {
   "cell_type": "code",
   "execution_count": null,
   "id": "dfa8062f-7614-49c6-945f-d19d3f622d67",
   "metadata": {},
   "outputs": [],
   "source": [
    "data_sorted.loc[data['user_id'] == 28048440  ].head(10)"
   ]
  },
  {
   "cell_type": "markdown",
   "id": "4317ca82-0b73-43be-ae3d-ff81aef25c5d",
   "metadata": {},
   "source": [
    "# 4. re"
   ]
  },
  {
   "cell_type": "code",
   "execution_count": null,
   "id": "b9601c64-4ba7-47a8-b347-b9b475fffb85",
   "metadata": {},
   "outputs": [],
   "source": [
    "import re\n"
   ]
  },
  {
   "cell_type": "code",
   "execution_count": null,
   "id": "d222b031-f78a-4abb-9ff4-140f2147bada",
   "metadata": {},
   "outputs": [],
   "source": [
    "data_sorted['price'] = data_sorted.price.apply(lambda x: \"\".join(re.findall('[.,0-9]', x))).astype(float)\n",
    "data_sorted['price']"
   ]
  },
  {
   "cell_type": "markdown",
   "id": "7e5c41fc-f14f-42c8-8a5c-d13268a8c1fb",
   "metadata": {},
   "source": [
    "# 5. Events"
   ]
  },
  {
   "cell_type": "code",
   "execution_count": null,
   "id": "a870d9a3-5af8-479e-80df-4fcd6dfb73bd",
   "metadata": {},
   "outputs": [],
   "source": [
    "data_sorted.event_type.hist()"
   ]
  },
  {
   "cell_type": "markdown",
   "id": "121150b7-5ee0-4792-89b8-4421a65c6cf9",
   "metadata": {},
   "source": [
    "# 6. session_data "
   ]
  },
  {
   "cell_type": "code",
   "execution_count": null,
   "id": "95035909-41f3-42da-a801-1ac3d8981007",
   "metadata": {},
   "outputs": [],
   "source": [
    "grouped = data_sorted.groupby(['user_id', 'user_session', 'funnel_number'])\n",
    "session_data = pd.DataFrame()"
   ]
  },
  {
   "cell_type": "code",
   "execution_count": null,
   "id": "c42edd95-94fc-484e-9b34-c32b57806a34",
   "metadata": {},
   "outputs": [],
   "source": [
    "session_data['user_id'] = grouped['user_id'].first()\n",
    "session_data['user_session'] = grouped['user_session'].first()\n",
    "session_data['funnel_number'] = grouped['funnel_number'].first()\n",
    "session_data['index_in_funnel'] = grouped['index_in_funnel'].apply(list)"
   ]
  },
  {
   "cell_type": "markdown",
   "id": "b9723cbe-75bf-467a-b040-ab71d8f34347",
   "metadata": {},
   "source": [
    "**column e**"
   ]
  },
  {
   "cell_type": "code",
   "execution_count": null,
   "id": "988ad095-e729-4b17-ab44-b17176854781",
   "metadata": {},
   "outputs": [],
   "source": [
    "session_data['total_events'] = data_sorted.groupby(['user_id', 'user_session'])['user_session'].count()"
   ]
  },
  {
   "cell_type": "markdown",
   "id": "8db4ed08-9dd8-4781-8205-f3912a242796",
   "metadata": {},
   "source": [
    "**column f**"
   ]
  },
  {
   "cell_type": "code",
   "execution_count": null,
   "id": "baaff2d5-66cc-4b83-b432-85f94b035001",
   "metadata": {},
   "outputs": [],
   "source": [
    "session_data['seconds_between'] = data_sorted.groupby(['user_id','user_session'])['duration_to_next_event'].sum()"
   ]
  },
  {
   "cell_type": "markdown",
   "id": "49f8ff2d-02da-4bb8-b8d3-2ec62a7a53ae",
   "metadata": {},
   "source": [
    "**column g**"
   ]
  },
  {
   "cell_type": "code",
   "execution_count": null,
   "id": "869615bd-9424-4a45-9bf0-f723416517e6",
   "metadata": {},
   "outputs": [],
   "source": [
    "view_sort = data_sorted[data_sorted['event_type'] == 'view']\n",
    "session_data['list_of_viewed'] = view_sort.groupby(['user_id', 'user_session'])['product_id'].apply(list)"
   ]
  },
  {
   "cell_type": "markdown",
   "id": "92e5af5e-ef81-40ca-bc7c-c84924462d1a",
   "metadata": {},
   "source": [
    "**column h**"
   ]
  },
  {
   "cell_type": "code",
   "execution_count": null,
   "id": "8e971323-99cf-4c7d-bc06-53dd88f35ac6",
   "metadata": {},
   "outputs": [],
   "source": [
    "cart_sort = data_sorted[data_sorted['event_type'] == 'cart']\n",
    "session_data['list_of_added_to_cart'] = cart_sort.groupby(['user_id', 'user_session'])['product_id'].apply(list)"
   ]
  },
  {
   "cell_type": "markdown",
   "id": "01251265-debe-4b22-aa8b-cbedf6146242",
   "metadata": {},
   "source": [
    "**column i**"
   ]
  },
  {
   "cell_type": "code",
   "execution_count": null,
   "id": "ee60ace9-16cd-4cf2-85b1-8646755a4429",
   "metadata": {},
   "outputs": [],
   "source": [
    "purchase_sort = data_sorted[data_sorted['event_type'] == 'purchase']\n",
    "session_data['list_of_purchased '] = cart_sort.groupby(['user_id', 'user_session'])['product_id'].apply(list)"
   ]
  },
  {
   "cell_type": "code",
   "execution_count": null,
   "id": "935b1e11-6f4a-4709-a3c4-767a27235fca",
   "metadata": {},
   "outputs": [],
   "source": [
    "session_data.head(8)"
   ]
  }
 ],
 "metadata": {
  "kernelspec": {
   "display_name": "Python 3",
   "language": "python",
   "name": "python3"
  },
  "language_info": {
   "codemirror_mode": {
    "name": "ipython",
    "version": 3
   },
   "file_extension": ".py",
   "mimetype": "text/x-python",
   "name": "python",
   "nbconvert_exporter": "python",
   "pygments_lexer": "ipython3",
   "version": "3.8.8"
  }
 },
 "nbformat": 4,
 "nbformat_minor": 5
}
